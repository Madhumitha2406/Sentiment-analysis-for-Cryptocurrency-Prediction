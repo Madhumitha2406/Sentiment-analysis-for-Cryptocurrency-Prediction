{
 "cells": [
  {
   "cell_type": "code",
   "execution_count": 1,
   "metadata": {},
   "outputs": [],
   "source": [
    "import cbpro\n",
    "import pandas as pd\n",
    "import numpy as np\n",
    "import matplotlib.pyplot as plt \n",
    "import seaborn\n",
    "%matplotlib inline \n",
    "public_client = cbpro.PublicClient()"
   ]
  },
  {
   "cell_type": "code",
   "execution_count": 2,
   "metadata": {},
   "outputs": [
    {
     "data": {
      "text/html": [
       "<div>\n",
       "<style scoped>\n",
       "    .dataframe tbody tr th:only-of-type {\n",
       "        vertical-align: middle;\n",
       "    }\n",
       "\n",
       "    .dataframe tbody tr th {\n",
       "        vertical-align: top;\n",
       "    }\n",
       "\n",
       "    .dataframe thead th {\n",
       "        text-align: right;\n",
       "    }\n",
       "</style>\n",
       "<table border=\"1\" class=\"dataframe\">\n",
       "  <thead>\n",
       "    <tr style=\"text-align: right;\">\n",
       "      <th></th>\n",
       "      <th>time</th>\n",
       "      <th>low</th>\n",
       "      <th>high</th>\n",
       "      <th>open</th>\n",
       "      <th>close</th>\n",
       "      <th>volume</th>\n",
       "    </tr>\n",
       "  </thead>\n",
       "  <tbody>\n",
       "    <tr>\n",
       "      <th>0</th>\n",
       "      <td>1627171200</td>\n",
       "      <td>2142.67</td>\n",
       "      <td>2196.70</td>\n",
       "      <td>2186.76</td>\n",
       "      <td>2154.89</td>\n",
       "      <td>13368.305651</td>\n",
       "    </tr>\n",
       "    <tr>\n",
       "      <th>1</th>\n",
       "      <td>1627167600</td>\n",
       "      <td>2160.64</td>\n",
       "      <td>2189.97</td>\n",
       "      <td>2171.02</td>\n",
       "      <td>2185.95</td>\n",
       "      <td>5920.886534</td>\n",
       "    </tr>\n",
       "    <tr>\n",
       "      <th>2</th>\n",
       "      <td>1627164000</td>\n",
       "      <td>2154.58</td>\n",
       "      <td>2174.00</td>\n",
       "      <td>2169.24</td>\n",
       "      <td>2171.46</td>\n",
       "      <td>4269.408937</td>\n",
       "    </tr>\n",
       "    <tr>\n",
       "      <th>3</th>\n",
       "      <td>1627160400</td>\n",
       "      <td>2138.76</td>\n",
       "      <td>2175.00</td>\n",
       "      <td>2154.69</td>\n",
       "      <td>2169.22</td>\n",
       "      <td>5862.714617</td>\n",
       "    </tr>\n",
       "    <tr>\n",
       "      <th>4</th>\n",
       "      <td>1627156800</td>\n",
       "      <td>2128.61</td>\n",
       "      <td>2158.62</td>\n",
       "      <td>2146.28</td>\n",
       "      <td>2154.15</td>\n",
       "      <td>7604.796177</td>\n",
       "    </tr>\n",
       "    <tr>\n",
       "      <th>...</th>\n",
       "      <td>...</td>\n",
       "      <td>...</td>\n",
       "      <td>...</td>\n",
       "      <td>...</td>\n",
       "      <td>...</td>\n",
       "      <td>...</td>\n",
       "    </tr>\n",
       "    <tr>\n",
       "      <th>140</th>\n",
       "      <td>1626667200</td>\n",
       "      <td>1882.02</td>\n",
       "      <td>1899.17</td>\n",
       "      <td>1886.09</td>\n",
       "      <td>1898.70</td>\n",
       "      <td>3102.657870</td>\n",
       "    </tr>\n",
       "    <tr>\n",
       "      <th>141</th>\n",
       "      <td>1626663600</td>\n",
       "      <td>1877.00</td>\n",
       "      <td>1894.24</td>\n",
       "      <td>1878.73</td>\n",
       "      <td>1886.10</td>\n",
       "      <td>4872.677129</td>\n",
       "    </tr>\n",
       "    <tr>\n",
       "      <th>142</th>\n",
       "      <td>1626660000</td>\n",
       "      <td>1873.11</td>\n",
       "      <td>1888.82</td>\n",
       "      <td>1882.46</td>\n",
       "      <td>1878.73</td>\n",
       "      <td>4601.992857</td>\n",
       "    </tr>\n",
       "    <tr>\n",
       "      <th>143</th>\n",
       "      <td>1626656400</td>\n",
       "      <td>1866.34</td>\n",
       "      <td>1886.96</td>\n",
       "      <td>1885.46</td>\n",
       "      <td>1882.46</td>\n",
       "      <td>8766.044953</td>\n",
       "    </tr>\n",
       "    <tr>\n",
       "      <th>144</th>\n",
       "      <td>1626652800</td>\n",
       "      <td>1882.46</td>\n",
       "      <td>1907.70</td>\n",
       "      <td>1891.46</td>\n",
       "      <td>1885.46</td>\n",
       "      <td>6622.387374</td>\n",
       "    </tr>\n",
       "  </tbody>\n",
       "</table>\n",
       "<p>145 rows × 6 columns</p>\n",
       "</div>"
      ],
      "text/plain": [
       "           time     low      high     open    close        volume\n",
       "0    1627171200  2142.67  2196.70  2186.76  2154.89  13368.305651\n",
       "1    1627167600  2160.64  2189.97  2171.02  2185.95   5920.886534\n",
       "2    1627164000  2154.58  2174.00  2169.24  2171.46   4269.408937\n",
       "3    1627160400  2138.76  2175.00  2154.69  2169.22   5862.714617\n",
       "4    1627156800  2128.61  2158.62  2146.28  2154.15   7604.796177\n",
       "..          ...      ...      ...      ...      ...           ...\n",
       "140  1626667200  1882.02  1899.17  1886.09  1898.70   3102.657870\n",
       "141  1626663600  1877.00  1894.24  1878.73  1886.10   4872.677129\n",
       "142  1626660000  1873.11  1888.82  1882.46  1878.73   4601.992857\n",
       "143  1626656400  1866.34  1886.96  1885.46  1882.46   8766.044953\n",
       "144  1626652800  1882.46  1907.70  1891.46  1885.46   6622.387374\n",
       "\n",
       "[145 rows x 6 columns]"
      ]
     },
     "execution_count": 2,
     "metadata": {},
     "output_type": "execute_result"
    }
   ],
   "source": [
    "test = public_client.get_product_historic_rates('ETH-USD', granularity=3600,start ='07/19/2021', end='07/25/2021')\n",
    "df = pd.DataFrame(test)\n",
    "df.rename(columns={0: 'time', 1: 'low ', 2: 'high', 3: 'open', 4: 'close', 5: 'volume'}, inplace=True)\n",
    "df"
   ]
  },
  {
   "cell_type": "code",
   "execution_count": 2,
   "metadata": {},
   "outputs": [
    {
     "data": {
      "text/html": [
       "<div>\n",
       "<style scoped>\n",
       "    .dataframe tbody tr th:only-of-type {\n",
       "        vertical-align: middle;\n",
       "    }\n",
       "\n",
       "    .dataframe tbody tr th {\n",
       "        vertical-align: top;\n",
       "    }\n",
       "\n",
       "    .dataframe thead th {\n",
       "        text-align: right;\n",
       "    }\n",
       "</style>\n",
       "<table border=\"1\" class=\"dataframe\">\n",
       "  <thead>\n",
       "    <tr style=\"text-align: right;\">\n",
       "      <th></th>\n",
       "      <th>time</th>\n",
       "      <th>low</th>\n",
       "      <th>high</th>\n",
       "      <th>open</th>\n",
       "      <th>close</th>\n",
       "      <th>volume</th>\n",
       "    </tr>\n",
       "  </thead>\n",
       "  <tbody>\n",
       "    <tr>\n",
       "      <th>0</th>\n",
       "      <td>1637798400</td>\n",
       "      <td>4250.00</td>\n",
       "      <td>4555.11</td>\n",
       "      <td>4270.93</td>\n",
       "      <td>4525.87</td>\n",
       "      <td>132338.281735</td>\n",
       "    </tr>\n",
       "    <tr>\n",
       "      <th>1</th>\n",
       "      <td>1637712000</td>\n",
       "      <td>4168.99</td>\n",
       "      <td>4359.88</td>\n",
       "      <td>4341.58</td>\n",
       "      <td>4270.74</td>\n",
       "      <td>120268.677290</td>\n",
       "    </tr>\n",
       "    <tr>\n",
       "      <th>2</th>\n",
       "      <td>1637625600</td>\n",
       "      <td>4062.28</td>\n",
       "      <td>4389.95</td>\n",
       "      <td>4089.17</td>\n",
       "      <td>4341.62</td>\n",
       "      <td>159935.237979</td>\n",
       "    </tr>\n",
       "    <tr>\n",
       "      <th>3</th>\n",
       "      <td>1637539200</td>\n",
       "      <td>4024.45</td>\n",
       "      <td>4322.86</td>\n",
       "      <td>4263.04</td>\n",
       "      <td>4089.16</td>\n",
       "      <td>174572.989325</td>\n",
       "    </tr>\n",
       "    <tr>\n",
       "      <th>4</th>\n",
       "      <td>1637452800</td>\n",
       "      <td>4246.07</td>\n",
       "      <td>4427.72</td>\n",
       "      <td>4416.36</td>\n",
       "      <td>4262.99</td>\n",
       "      <td>83775.316761</td>\n",
       "    </tr>\n",
       "    <tr>\n",
       "      <th>...</th>\n",
       "      <td>...</td>\n",
       "      <td>...</td>\n",
       "      <td>...</td>\n",
       "      <td>...</td>\n",
       "      <td>...</td>\n",
       "      <td>...</td>\n",
       "    </tr>\n",
       "    <tr>\n",
       "      <th>80</th>\n",
       "      <td>1630886400</td>\n",
       "      <td>3868.00</td>\n",
       "      <td>3973.27</td>\n",
       "      <td>3951.68</td>\n",
       "      <td>3928.89</td>\n",
       "      <td>111675.629917</td>\n",
       "    </tr>\n",
       "    <tr>\n",
       "      <th>81</th>\n",
       "      <td>1630800000</td>\n",
       "      <td>3835.70</td>\n",
       "      <td>3982.64</td>\n",
       "      <td>3887.58</td>\n",
       "      <td>3952.17</td>\n",
       "      <td>101339.561578</td>\n",
       "    </tr>\n",
       "    <tr>\n",
       "      <th>82</th>\n",
       "      <td>1630713600</td>\n",
       "      <td>3834.57</td>\n",
       "      <td>3970.00</td>\n",
       "      <td>3940.06</td>\n",
       "      <td>3887.53</td>\n",
       "      <td>130047.415695</td>\n",
       "    </tr>\n",
       "    <tr>\n",
       "      <th>83</th>\n",
       "      <td>1630627200</td>\n",
       "      <td>3710.59</td>\n",
       "      <td>4030.35</td>\n",
       "      <td>3788.20</td>\n",
       "      <td>3940.06</td>\n",
       "      <td>284766.160387</td>\n",
       "    </tr>\n",
       "    <tr>\n",
       "      <th>84</th>\n",
       "      <td>1630540800</td>\n",
       "      <td>3722.65</td>\n",
       "      <td>3838.28</td>\n",
       "      <td>3829.29</td>\n",
       "      <td>3787.97</td>\n",
       "      <td>206168.939099</td>\n",
       "    </tr>\n",
       "  </tbody>\n",
       "</table>\n",
       "<p>85 rows × 6 columns</p>\n",
       "</div>"
      ],
      "text/plain": [
       "          time     low      high     open    close         volume\n",
       "0   1637798400  4250.00  4555.11  4270.93  4525.87  132338.281735\n",
       "1   1637712000  4168.99  4359.88  4341.58  4270.74  120268.677290\n",
       "2   1637625600  4062.28  4389.95  4089.17  4341.62  159935.237979\n",
       "3   1637539200  4024.45  4322.86  4263.04  4089.16  174572.989325\n",
       "4   1637452800  4246.07  4427.72  4416.36  4262.99   83775.316761\n",
       "..         ...      ...      ...      ...      ...            ...\n",
       "80  1630886400  3868.00  3973.27  3951.68  3928.89  111675.629917\n",
       "81  1630800000  3835.70  3982.64  3887.58  3952.17  101339.561578\n",
       "82  1630713600  3834.57  3970.00  3940.06  3887.53  130047.415695\n",
       "83  1630627200  3710.59  4030.35  3788.20  3940.06  284766.160387\n",
       "84  1630540800  3722.65  3838.28  3829.29  3787.97  206168.939099\n",
       "\n",
       "[85 rows x 6 columns]"
      ]
     },
     "execution_count": 2,
     "metadata": {},
     "output_type": "execute_result"
    }
   ],
   "source": [
    "test = public_client.get_product_historic_rates('ETH-USD', granularity=86400,start ='09/02/2021', end='11/25/2021')\n",
    "df = pd.DataFrame(test)\n",
    "df.rename(columns={0: 'time', 1: 'low ', 2: 'high', 3: 'open', 4: 'close', 5: 'volume'}, inplace=True)\n",
    "df"
   ]
  },
  {
   "cell_type": "code",
   "execution_count": 3,
   "metadata": {},
   "outputs": [],
   "source": [
    "from datetime import datetime\n",
    "def convertdate(ts):\n",
    "    return datetime.utcfromtimestamp(ts).strftime('%Y-%m-%d %H:%M:%S')"
   ]
  },
  {
   "cell_type": "code",
   "execution_count": 4,
   "metadata": {},
   "outputs": [],
   "source": [
    "df['Date'] = df['time'].apply(convertdate)"
   ]
  },
  {
   "cell_type": "code",
   "execution_count": 5,
   "metadata": {},
   "outputs": [
    {
     "data": {
      "text/html": [
       "<div>\n",
       "<style scoped>\n",
       "    .dataframe tbody tr th:only-of-type {\n",
       "        vertical-align: middle;\n",
       "    }\n",
       "\n",
       "    .dataframe tbody tr th {\n",
       "        vertical-align: top;\n",
       "    }\n",
       "\n",
       "    .dataframe thead th {\n",
       "        text-align: right;\n",
       "    }\n",
       "</style>\n",
       "<table border=\"1\" class=\"dataframe\">\n",
       "  <thead>\n",
       "    <tr style=\"text-align: right;\">\n",
       "      <th></th>\n",
       "      <th>time</th>\n",
       "      <th>low</th>\n",
       "      <th>high</th>\n",
       "      <th>open</th>\n",
       "      <th>close</th>\n",
       "      <th>volume</th>\n",
       "      <th>Date</th>\n",
       "    </tr>\n",
       "  </thead>\n",
       "  <tbody>\n",
       "    <tr>\n",
       "      <th>0</th>\n",
       "      <td>1637798400</td>\n",
       "      <td>4250.00</td>\n",
       "      <td>4555.11</td>\n",
       "      <td>4270.93</td>\n",
       "      <td>4525.87</td>\n",
       "      <td>132338.281735</td>\n",
       "      <td>2021-11-25 00:00:00</td>\n",
       "    </tr>\n",
       "    <tr>\n",
       "      <th>1</th>\n",
       "      <td>1637712000</td>\n",
       "      <td>4168.99</td>\n",
       "      <td>4359.88</td>\n",
       "      <td>4341.58</td>\n",
       "      <td>4270.74</td>\n",
       "      <td>120268.677290</td>\n",
       "      <td>2021-11-24 00:00:00</td>\n",
       "    </tr>\n",
       "    <tr>\n",
       "      <th>2</th>\n",
       "      <td>1637625600</td>\n",
       "      <td>4062.28</td>\n",
       "      <td>4389.95</td>\n",
       "      <td>4089.17</td>\n",
       "      <td>4341.62</td>\n",
       "      <td>159935.237979</td>\n",
       "      <td>2021-11-23 00:00:00</td>\n",
       "    </tr>\n",
       "    <tr>\n",
       "      <th>3</th>\n",
       "      <td>1637539200</td>\n",
       "      <td>4024.45</td>\n",
       "      <td>4322.86</td>\n",
       "      <td>4263.04</td>\n",
       "      <td>4089.16</td>\n",
       "      <td>174572.989325</td>\n",
       "      <td>2021-11-22 00:00:00</td>\n",
       "    </tr>\n",
       "    <tr>\n",
       "      <th>4</th>\n",
       "      <td>1637452800</td>\n",
       "      <td>4246.07</td>\n",
       "      <td>4427.72</td>\n",
       "      <td>4416.36</td>\n",
       "      <td>4262.99</td>\n",
       "      <td>83775.316761</td>\n",
       "      <td>2021-11-21 00:00:00</td>\n",
       "    </tr>\n",
       "    <tr>\n",
       "      <th>...</th>\n",
       "      <td>...</td>\n",
       "      <td>...</td>\n",
       "      <td>...</td>\n",
       "      <td>...</td>\n",
       "      <td>...</td>\n",
       "      <td>...</td>\n",
       "      <td>...</td>\n",
       "    </tr>\n",
       "    <tr>\n",
       "      <th>80</th>\n",
       "      <td>1630886400</td>\n",
       "      <td>3868.00</td>\n",
       "      <td>3973.27</td>\n",
       "      <td>3951.68</td>\n",
       "      <td>3928.89</td>\n",
       "      <td>111675.629917</td>\n",
       "      <td>2021-09-06 00:00:00</td>\n",
       "    </tr>\n",
       "    <tr>\n",
       "      <th>81</th>\n",
       "      <td>1630800000</td>\n",
       "      <td>3835.70</td>\n",
       "      <td>3982.64</td>\n",
       "      <td>3887.58</td>\n",
       "      <td>3952.17</td>\n",
       "      <td>101339.561578</td>\n",
       "      <td>2021-09-05 00:00:00</td>\n",
       "    </tr>\n",
       "    <tr>\n",
       "      <th>82</th>\n",
       "      <td>1630713600</td>\n",
       "      <td>3834.57</td>\n",
       "      <td>3970.00</td>\n",
       "      <td>3940.06</td>\n",
       "      <td>3887.53</td>\n",
       "      <td>130047.415695</td>\n",
       "      <td>2021-09-04 00:00:00</td>\n",
       "    </tr>\n",
       "    <tr>\n",
       "      <th>83</th>\n",
       "      <td>1630627200</td>\n",
       "      <td>3710.59</td>\n",
       "      <td>4030.35</td>\n",
       "      <td>3788.20</td>\n",
       "      <td>3940.06</td>\n",
       "      <td>284766.160387</td>\n",
       "      <td>2021-09-03 00:00:00</td>\n",
       "    </tr>\n",
       "    <tr>\n",
       "      <th>84</th>\n",
       "      <td>1630540800</td>\n",
       "      <td>3722.65</td>\n",
       "      <td>3838.28</td>\n",
       "      <td>3829.29</td>\n",
       "      <td>3787.97</td>\n",
       "      <td>206168.939099</td>\n",
       "      <td>2021-09-02 00:00:00</td>\n",
       "    </tr>\n",
       "  </tbody>\n",
       "</table>\n",
       "<p>85 rows × 7 columns</p>\n",
       "</div>"
      ],
      "text/plain": [
       "          time     low      high     open    close         volume  \\\n",
       "0   1637798400  4250.00  4555.11  4270.93  4525.87  132338.281735   \n",
       "1   1637712000  4168.99  4359.88  4341.58  4270.74  120268.677290   \n",
       "2   1637625600  4062.28  4389.95  4089.17  4341.62  159935.237979   \n",
       "3   1637539200  4024.45  4322.86  4263.04  4089.16  174572.989325   \n",
       "4   1637452800  4246.07  4427.72  4416.36  4262.99   83775.316761   \n",
       "..         ...      ...      ...      ...      ...            ...   \n",
       "80  1630886400  3868.00  3973.27  3951.68  3928.89  111675.629917   \n",
       "81  1630800000  3835.70  3982.64  3887.58  3952.17  101339.561578   \n",
       "82  1630713600  3834.57  3970.00  3940.06  3887.53  130047.415695   \n",
       "83  1630627200  3710.59  4030.35  3788.20  3940.06  284766.160387   \n",
       "84  1630540800  3722.65  3838.28  3829.29  3787.97  206168.939099   \n",
       "\n",
       "                   Date  \n",
       "0   2021-11-25 00:00:00  \n",
       "1   2021-11-24 00:00:00  \n",
       "2   2021-11-23 00:00:00  \n",
       "3   2021-11-22 00:00:00  \n",
       "4   2021-11-21 00:00:00  \n",
       "..                  ...  \n",
       "80  2021-09-06 00:00:00  \n",
       "81  2021-09-05 00:00:00  \n",
       "82  2021-09-04 00:00:00  \n",
       "83  2021-09-03 00:00:00  \n",
       "84  2021-09-02 00:00:00  \n",
       "\n",
       "[85 rows x 7 columns]"
      ]
     },
     "execution_count": 5,
     "metadata": {},
     "output_type": "execute_result"
    }
   ],
   "source": [
    "df"
   ]
  },
  {
   "cell_type": "code",
   "execution_count": 6,
   "metadata": {},
   "outputs": [
    {
     "data": {
      "text/plain": [
       "85"
      ]
     },
     "execution_count": 6,
     "metadata": {},
     "output_type": "execute_result"
    }
   ],
   "source": [
    "len(df)"
   ]
  },
  {
   "cell_type": "code",
   "execution_count": 7,
   "metadata": {},
   "outputs": [],
   "source": [
    "df.to_csv('ethereum_market_data_month_latest.csv')"
   ]
  },
  {
   "cell_type": "code",
   "execution_count": 9,
   "metadata": {},
   "outputs": [
    {
     "data": {
      "text/plain": [
       "count     145.000000\n",
       "mean     1955.981310\n",
       "std       134.795872\n",
       "min      1728.730000\n",
       "25%      1820.430000\n",
       "50%      1978.490000\n",
       "75%      2060.250000\n",
       "max      2194.980000\n",
       "Name: close, dtype: float64"
      ]
     },
     "execution_count": 9,
     "metadata": {},
     "output_type": "execute_result"
    }
   ],
   "source": [
    "df['close'].describe()"
   ]
  },
  {
   "cell_type": "code",
   "execution_count": 10,
   "metadata": {},
   "outputs": [],
   "source": [
    "df['Return'] = df['close'].pct_change()"
   ]
  },
  {
   "cell_type": "code",
   "execution_count": 11,
   "metadata": {},
   "outputs": [
    {
     "data": {
      "text/html": [
       "<div>\n",
       "<style scoped>\n",
       "    .dataframe tbody tr th:only-of-type {\n",
       "        vertical-align: middle;\n",
       "    }\n",
       "\n",
       "    .dataframe tbody tr th {\n",
       "        vertical-align: top;\n",
       "    }\n",
       "\n",
       "    .dataframe thead th {\n",
       "        text-align: right;\n",
       "    }\n",
       "</style>\n",
       "<table border=\"1\" class=\"dataframe\">\n",
       "  <thead>\n",
       "    <tr style=\"text-align: right;\">\n",
       "      <th></th>\n",
       "      <th>time</th>\n",
       "      <th>low</th>\n",
       "      <th>high</th>\n",
       "      <th>open</th>\n",
       "      <th>close</th>\n",
       "      <th>volume</th>\n",
       "      <th>Date</th>\n",
       "      <th>Return</th>\n",
       "    </tr>\n",
       "  </thead>\n",
       "  <tbody>\n",
       "    <tr>\n",
       "      <th>0</th>\n",
       "      <td>1627171200</td>\n",
       "      <td>2142.67</td>\n",
       "      <td>2196.70</td>\n",
       "      <td>2186.76</td>\n",
       "      <td>2154.89</td>\n",
       "      <td>13368.305651</td>\n",
       "      <td>2021-07-25 00:00:00</td>\n",
       "      <td>NaN</td>\n",
       "    </tr>\n",
       "    <tr>\n",
       "      <th>1</th>\n",
       "      <td>1627167600</td>\n",
       "      <td>2160.64</td>\n",
       "      <td>2189.97</td>\n",
       "      <td>2171.02</td>\n",
       "      <td>2185.95</td>\n",
       "      <td>5920.886534</td>\n",
       "      <td>2021-07-24 23:00:00</td>\n",
       "      <td>0.014414</td>\n",
       "    </tr>\n",
       "    <tr>\n",
       "      <th>2</th>\n",
       "      <td>1627164000</td>\n",
       "      <td>2154.58</td>\n",
       "      <td>2174.00</td>\n",
       "      <td>2169.24</td>\n",
       "      <td>2171.46</td>\n",
       "      <td>4269.408937</td>\n",
       "      <td>2021-07-24 22:00:00</td>\n",
       "      <td>-0.006629</td>\n",
       "    </tr>\n",
       "    <tr>\n",
       "      <th>3</th>\n",
       "      <td>1627160400</td>\n",
       "      <td>2138.76</td>\n",
       "      <td>2175.00</td>\n",
       "      <td>2154.69</td>\n",
       "      <td>2169.22</td>\n",
       "      <td>5862.714617</td>\n",
       "      <td>2021-07-24 21:00:00</td>\n",
       "      <td>-0.001032</td>\n",
       "    </tr>\n",
       "    <tr>\n",
       "      <th>4</th>\n",
       "      <td>1627156800</td>\n",
       "      <td>2128.61</td>\n",
       "      <td>2158.62</td>\n",
       "      <td>2146.28</td>\n",
       "      <td>2154.15</td>\n",
       "      <td>7604.796177</td>\n",
       "      <td>2021-07-24 20:00:00</td>\n",
       "      <td>-0.006947</td>\n",
       "    </tr>\n",
       "  </tbody>\n",
       "</table>\n",
       "</div>"
      ],
      "text/plain": [
       "         time     low      high     open    close        volume  \\\n",
       "0  1627171200  2142.67  2196.70  2186.76  2154.89  13368.305651   \n",
       "1  1627167600  2160.64  2189.97  2171.02  2185.95   5920.886534   \n",
       "2  1627164000  2154.58  2174.00  2169.24  2171.46   4269.408937   \n",
       "3  1627160400  2138.76  2175.00  2154.69  2169.22   5862.714617   \n",
       "4  1627156800  2128.61  2158.62  2146.28  2154.15   7604.796177   \n",
       "\n",
       "                  Date    Return  \n",
       "0  2021-07-25 00:00:00       NaN  \n",
       "1  2021-07-24 23:00:00  0.014414  \n",
       "2  2021-07-24 22:00:00 -0.006629  \n",
       "3  2021-07-24 21:00:00 -0.001032  \n",
       "4  2021-07-24 20:00:00 -0.006947  "
      ]
     },
     "execution_count": 11,
     "metadata": {},
     "output_type": "execute_result"
    }
   ],
   "source": [
    "df.head()"
   ]
  },
  {
   "cell_type": "code",
   "execution_count": 12,
   "metadata": {},
   "outputs": [
    {
     "data": {
      "text/plain": [
       "-0.0008897048911155282"
      ]
     },
     "execution_count": 12,
     "metadata": {},
     "output_type": "execute_result"
    }
   ],
   "source": [
    "np.mean(df['Return'])"
   ]
  },
  {
   "cell_type": "code",
   "execution_count": 13,
   "metadata": {},
   "outputs": [
    {
     "data": {
      "image/png": "[encoded data removed]",
      "text/plain": [
       "<Figure size 432x288 with 1 Axes>"
      ]
     },
     "metadata": {
      "needs_background": "light"
     },
     "output_type": "display_data"
    }
   ],
   "source": [
    "ax1 = df['close'].plot(style = ['-'])"
   ]
  },
  {
   "cell_type": "code",
   "execution_count": 14,
   "metadata": {},
   "outputs": [
    {
     "data": {
      "image/png": "[encoded data removed]",
      "text/plain": [
       "<Figure size 432x288 with 1 Axes>"
      ]
     },
     "metadata": {
      "needs_background": "light"
     },
     "output_type": "display_data"
    }
   ],
   "source": [
    "ax2 = df['Return'].plot(style = ['-'])"
   ]
  },
  {
   "cell_type": "code",
   "execution_count": 15,
   "metadata": {},
   "outputs": [
    {
     "data": {
      "text/plain": [
       "<AxesSubplot:>"
      ]
     },
     "execution_count": 15,
     "metadata": {},
     "output_type": "execute_result"
    },
    {
     "data": {
      "image/png": "[encoded data removed]",
      "text/plain": [
       "<Figure size 432x288 with 1 Axes>"
      ]
     },
     "metadata": {
      "needs_background": "light"
     },
     "output_type": "display_data"
    }
   ],
   "source": [
    "df['Return'].plot(style = ['k.'])"
   ]
  },
  {
   "cell_type": "code",
   "execution_count": 16,
   "metadata": {},
   "outputs": [
    {
     "data": {
      "text/plain": [
       "<AxesSubplot:>"
      ]
     },
     "execution_count": 16,
     "metadata": {},
     "output_type": "execute_result"
    },
    {
     "data": {
      "image/png": "[encoded data removed]",
      "text/plain": [
       "<Figure size 432x288 with 1 Axes>"
      ]
     },
     "metadata": {
      "needs_background": "light"
     },
     "output_type": "display_data"
    }
   ],
   "source": [
    "df['Return'].hist()"
   ]
  },
  {
   "cell_type": "code",
   "execution_count": null,
   "metadata": {},
   "outputs": [],
   "source": []
  }
 ],
 "metadata": {
  "kernelspec": {
   "display_name": "Python 3",
   "language": "python",
   "name": "python3"
  },
  "language_info": {
   "codemirror_mode": {
    "name": "ipython",
    "version": 3
   },
   "file_extension": ".py",
   "mimetype": "text/x-python",
   "name": "python",
   "nbconvert_exporter": "python",
   "pygments_lexer": "ipython3",
   "version": "3.8.5"
  }
 },
 "nbformat": 4,
 "nbformat_minor": 4
}
