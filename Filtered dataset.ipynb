{
 "cells": [
  {
   "cell_type": "code",
   "execution_count": 1,
   "metadata": {},
   "outputs": [],
   "source": [
    "import pandas as pd\n",
    "import numpy as np\n",
    "from datetime import datetime"
   ]
  },
  {
   "cell_type": "code",
   "execution_count": 2,
   "metadata": {},
   "outputs": [
    {
     "name": "stderr",
     "output_type": "stream",
     "text": [
      "C:\\Users\\MADHUMITHA\\anaconda3\\lib\\site-packages\\IPython\\core\\interactiveshell.py:3063: DtypeWarning: Columns (0,2,9,13,14,20,21,22,23,24,25,26,27,35,36,37,40,43,48,49,50,82,83,84,85,86,87,88,89,90,91,92,93,96,100,102,104,106) have mixed types.Specify dtype option on import or set low_memory=False.\n",
      "  interactivity=interactivity, compiler=compiler, result=result)\n"
     ]
    }
   ],
   "source": [
    "Data = pd.read_csv(r\"C:\\Users\\MADHUMITHA\\Desktop\\ARP A\\ARP A 2022-20211201T132543Z-001\\ARP A 2022\\test_without_subreddit_Ethereum.csv\")"
   ]
  },
  {
   "cell_type": "code",
   "execution_count": 3,
   "metadata": {},
   "outputs": [],
   "source": [
    "Data = Data[Data.subreddit_subscribers > 100000] "
   ]
  },
  {
   "cell_type": "code",
   "execution_count": 5,
   "metadata": {},
   "outputs": [],
   "source": [
    "Ethereum=Data[['created_utc','title','selftext']]"
   ]
  },
  {
   "cell_type": "code",
   "execution_count": 6,
   "metadata": {},
   "outputs": [],
   "source": [
    "def convertdate(ts):\n",
    "    return datetime.utcfromtimestamp(ts).strftime('%Y-%m-%d')"
   ]
  },
  {
   "cell_type": "code",
   "execution_count": 7,
   "metadata": {},
   "outputs": [
    {
     "name": "stderr",
     "output_type": "stream",
     "text": [
      "C:\\Users\\MADHUMITHA\\anaconda3\\lib\\site-packages\\ipykernel_launcher.py:1: SettingWithCopyWarning: \n",
      "A value is trying to be set on a copy of a slice from a DataFrame.\n",
      "Try using .loc[row_indexer,col_indexer] = value instead\n",
      "\n",
      "See the caveats in the documentation: https://pandas.pydata.org/pandas-docs/stable/user_guide/indexing.html#returning-a-view-versus-a-copy\n",
      "  \"\"\"Entry point for launching an IPython kernel.\n"
     ]
    }
   ],
   "source": [
    "Ethereum['Date'] = Ethereum['created_utc'].apply(convertdate)"
   ]
  },
  {
   "cell_type": "code",
   "execution_count": 8,
   "metadata": {},
   "outputs": [
    {
     "data": {
      "text/html": [
       "<div>\n",
       "<style scoped>\n",
       "    .dataframe tbody tr th:only-of-type {\n",
       "        vertical-align: middle;\n",
       "    }\n",
       "\n",
       "    .dataframe tbody tr th {\n",
       "        vertical-align: top;\n",
       "    }\n",
       "\n",
       "    .dataframe thead th {\n",
       "        text-align: right;\n",
       "    }\n",
       "</style>\n",
       "<table border=\"1\" class=\"dataframe\">\n",
       "  <thead>\n",
       "    <tr style=\"text-align: right;\">\n",
       "      <th></th>\n",
       "      <th>created_utc</th>\n",
       "      <th>title</th>\n",
       "      <th>selftext</th>\n",
       "      <th>Date</th>\n",
       "    </tr>\n",
       "  </thead>\n",
       "  <tbody>\n",
       "    <tr>\n",
       "      <th>7</th>\n",
       "      <td>1.637881e+09</td>\n",
       "      <td>Wrapped Ethereum sent to wrapped Ether contrac...</td>\n",
       "      <td>[removed]</td>\n",
       "      <td>2021-11-25</td>\n",
       "    </tr>\n",
       "    <tr>\n",
       "      <th>8</th>\n",
       "      <td>1.637881e+09</td>\n",
       "      <td>Stable income of 1.2 Ethereum per day, I like ...</td>\n",
       "      <td>NaN</td>\n",
       "      <td>2021-11-25</td>\n",
       "    </tr>\n",
       "    <tr>\n",
       "      <th>9</th>\n",
       "      <td>1.637880e+09</td>\n",
       "      <td>Ethereum Facebook Group acquired - How is that...</td>\n",
       "      <td>I'm a member of the largest public Ethereum gr...</td>\n",
       "      <td>2021-11-25</td>\n",
       "    </tr>\n",
       "    <tr>\n",
       "      <th>10</th>\n",
       "      <td>1.637880e+09</td>\n",
       "      <td>BlockFi Changes Fees to Cover Ethereum Gas Costs</td>\n",
       "      <td>NaN</td>\n",
       "      <td>2021-11-25</td>\n",
       "    </tr>\n",
       "    <tr>\n",
       "      <th>11</th>\n",
       "      <td>1.637880e+09</td>\n",
       "      <td>Christie’s to Hold Ethereum NFT Auction on Ope...</td>\n",
       "      <td>NaN</td>\n",
       "      <td>2021-11-25</td>\n",
       "    </tr>\n",
       "    <tr>\n",
       "      <th>...</th>\n",
       "      <td>...</td>\n",
       "      <td>...</td>\n",
       "      <td>...</td>\n",
       "      <td>...</td>\n",
       "    </tr>\n",
       "    <tr>\n",
       "      <th>242586</th>\n",
       "      <td>1.619820e+09</td>\n",
       "      <td>Found this Ethereum Bat Signal on a walk in so...</td>\n",
       "      <td>NaN</td>\n",
       "      <td>2021-04-30</td>\n",
       "    </tr>\n",
       "    <tr>\n",
       "      <th>242587</th>\n",
       "      <td>1.619820e+09</td>\n",
       "      <td>Ethereum token creation: decimals value</td>\n",
       "      <td>[removed]</td>\n",
       "      <td>2021-04-30</td>\n",
       "    </tr>\n",
       "    <tr>\n",
       "      <th>242588</th>\n",
       "      <td>1.619820e+09</td>\n",
       "      <td>Ethereum or Bitcoin?</td>\n",
       "      <td>Hello! I’m relatively new to the cryptocurrenc...</td>\n",
       "      <td>2021-04-30</td>\n",
       "    </tr>\n",
       "    <tr>\n",
       "      <th>242590</th>\n",
       "      <td>1.619820e+09</td>\n",
       "      <td>Crypto for Beginners - What Everyone Should Know</td>\n",
       "      <td>Hey people of the /r/CC subreddit:\\n\\nSo I dec...</td>\n",
       "      <td>2021-04-30</td>\n",
       "    </tr>\n",
       "    <tr>\n",
       "      <th>242591</th>\n",
       "      <td>1.619820e+09</td>\n",
       "      <td>Loan to buy ethereum?</td>\n",
       "      <td>I can take out a loan of up to 50k at 9% annua...</td>\n",
       "      <td>2021-04-30</td>\n",
       "    </tr>\n",
       "  </tbody>\n",
       "</table>\n",
       "<p>68314 rows × 4 columns</p>\n",
       "</div>"
      ],
      "text/plain": [
       "         created_utc                                              title  \\\n",
       "7       1.637881e+09  Wrapped Ethereum sent to wrapped Ether contrac...   \n",
       "8       1.637881e+09  Stable income of 1.2 Ethereum per day, I like ...   \n",
       "9       1.637880e+09  Ethereum Facebook Group acquired - How is that...   \n",
       "10      1.637880e+09   BlockFi Changes Fees to Cover Ethereum Gas Costs   \n",
       "11      1.637880e+09  Christie’s to Hold Ethereum NFT Auction on Ope...   \n",
       "...              ...                                                ...   \n",
       "242586  1.619820e+09  Found this Ethereum Bat Signal on a walk in so...   \n",
       "242587  1.619820e+09            Ethereum token creation: decimals value   \n",
       "242588  1.619820e+09                               Ethereum or Bitcoin?   \n",
       "242590  1.619820e+09   Crypto for Beginners - What Everyone Should Know   \n",
       "242591  1.619820e+09                              Loan to buy ethereum?   \n",
       "\n",
       "                                                 selftext        Date  \n",
       "7                                               [removed]  2021-11-25  \n",
       "8                                                     NaN  2021-11-25  \n",
       "9       I'm a member of the largest public Ethereum gr...  2021-11-25  \n",
       "10                                                    NaN  2021-11-25  \n",
       "11                                                    NaN  2021-11-25  \n",
       "...                                                   ...         ...  \n",
       "242586                                                NaN  2021-04-30  \n",
       "242587                                          [removed]  2021-04-30  \n",
       "242588  Hello! I’m relatively new to the cryptocurrenc...  2021-04-30  \n",
       "242590  Hey people of the /r/CC subreddit:\\n\\nSo I dec...  2021-04-30  \n",
       "242591  I can take out a loan of up to 50k at 9% annua...  2021-04-30  \n",
       "\n",
       "[68314 rows x 4 columns]"
      ]
     },
     "execution_count": 8,
     "metadata": {},
     "output_type": "execute_result"
    }
   ],
   "source": [
    "Ethereum"
   ]
  },
  {
   "cell_type": "code",
   "execution_count": 9,
   "metadata": {},
   "outputs": [],
   "source": [
    "Ethereum.to_csv('Ethereum_with_dates.csv',index=False)"
   ]
  },
  {
   "cell_type": "code",
   "execution_count": 16,
   "metadata": {},
   "outputs": [],
   "source": [
    "Data = pd.read_csv(\"Ethereum.csv\")"
   ]
  },
  {
   "cell_type": "code",
   "execution_count": 17,
   "metadata": {},
   "outputs": [
    {
     "data": {
      "text/html": [
       "<div>\n",
       "<style scoped>\n",
       "    .dataframe tbody tr th:only-of-type {\n",
       "        vertical-align: middle;\n",
       "    }\n",
       "\n",
       "    .dataframe tbody tr th {\n",
       "        vertical-align: top;\n",
       "    }\n",
       "\n",
       "    .dataframe thead th {\n",
       "        text-align: right;\n",
       "    }\n",
       "</style>\n",
       "<table border=\"1\" class=\"dataframe\">\n",
       "  <thead>\n",
       "    <tr style=\"text-align: right;\">\n",
       "      <th></th>\n",
       "      <th>created_utc</th>\n",
       "      <th>title</th>\n",
       "      <th>selftext</th>\n",
       "    </tr>\n",
       "  </thead>\n",
       "  <tbody>\n",
       "    <tr>\n",
       "      <th>0</th>\n",
       "      <td>1.637881e+09</td>\n",
       "      <td>Wrapped Ethereum sent to wrapped Ether contrac...</td>\n",
       "      <td>[removed]</td>\n",
       "    </tr>\n",
       "    <tr>\n",
       "      <th>1</th>\n",
       "      <td>1.637881e+09</td>\n",
       "      <td>Stable income of 1.2 Ethereum per day, I like ...</td>\n",
       "      <td>NaN</td>\n",
       "    </tr>\n",
       "    <tr>\n",
       "      <th>2</th>\n",
       "      <td>1.637880e+09</td>\n",
       "      <td>Ethereum Facebook Group acquired - How is that...</td>\n",
       "      <td>I'm a member of the largest public Ethereum gr...</td>\n",
       "    </tr>\n",
       "    <tr>\n",
       "      <th>3</th>\n",
       "      <td>1.637880e+09</td>\n",
       "      <td>BlockFi Changes Fees to Cover Ethereum Gas Costs</td>\n",
       "      <td>NaN</td>\n",
       "    </tr>\n",
       "    <tr>\n",
       "      <th>4</th>\n",
       "      <td>1.637880e+09</td>\n",
       "      <td>Christie’s to Hold Ethereum NFT Auction on Ope...</td>\n",
       "      <td>NaN</td>\n",
       "    </tr>\n",
       "    <tr>\n",
       "      <th>...</th>\n",
       "      <td>...</td>\n",
       "      <td>...</td>\n",
       "      <td>...</td>\n",
       "    </tr>\n",
       "    <tr>\n",
       "      <th>68309</th>\n",
       "      <td>1.619820e+09</td>\n",
       "      <td>Found this Ethereum Bat Signal on a walk in so...</td>\n",
       "      <td>NaN</td>\n",
       "    </tr>\n",
       "    <tr>\n",
       "      <th>68310</th>\n",
       "      <td>1.619820e+09</td>\n",
       "      <td>Ethereum token creation: decimals value</td>\n",
       "      <td>[removed]</td>\n",
       "    </tr>\n",
       "    <tr>\n",
       "      <th>68311</th>\n",
       "      <td>1.619820e+09</td>\n",
       "      <td>Ethereum or Bitcoin?</td>\n",
       "      <td>Hello! I’m relatively new to the cryptocurrenc...</td>\n",
       "    </tr>\n",
       "    <tr>\n",
       "      <th>68312</th>\n",
       "      <td>1.619820e+09</td>\n",
       "      <td>Crypto for Beginners - What Everyone Should Know</td>\n",
       "      <td>Hey people of the /r/CC subreddit:\\n\\nSo I dec...</td>\n",
       "    </tr>\n",
       "    <tr>\n",
       "      <th>68313</th>\n",
       "      <td>1.619820e+09</td>\n",
       "      <td>Loan to buy ethereum?</td>\n",
       "      <td>I can take out a loan of up to 50k at 9% annua...</td>\n",
       "    </tr>\n",
       "  </tbody>\n",
       "</table>\n",
       "<p>68314 rows × 3 columns</p>\n",
       "</div>"
      ],
      "text/plain": [
       "        created_utc                                              title  \\\n",
       "0      1.637881e+09  Wrapped Ethereum sent to wrapped Ether contrac...   \n",
       "1      1.637881e+09  Stable income of 1.2 Ethereum per day, I like ...   \n",
       "2      1.637880e+09  Ethereum Facebook Group acquired - How is that...   \n",
       "3      1.637880e+09   BlockFi Changes Fees to Cover Ethereum Gas Costs   \n",
       "4      1.637880e+09  Christie’s to Hold Ethereum NFT Auction on Ope...   \n",
       "...             ...                                                ...   \n",
       "68309  1.619820e+09  Found this Ethereum Bat Signal on a walk in so...   \n",
       "68310  1.619820e+09            Ethereum token creation: decimals value   \n",
       "68311  1.619820e+09                               Ethereum or Bitcoin?   \n",
       "68312  1.619820e+09   Crypto for Beginners - What Everyone Should Know   \n",
       "68313  1.619820e+09                              Loan to buy ethereum?   \n",
       "\n",
       "                                                selftext  \n",
       "0                                              [removed]  \n",
       "1                                                    NaN  \n",
       "2      I'm a member of the largest public Ethereum gr...  \n",
       "3                                                    NaN  \n",
       "4                                                    NaN  \n",
       "...                                                  ...  \n",
       "68309                                                NaN  \n",
       "68310                                          [removed]  \n",
       "68311  Hello! I’m relatively new to the cryptocurrenc...  \n",
       "68312  Hey people of the /r/CC subreddit:\\n\\nSo I dec...  \n",
       "68313  I can take out a loan of up to 50k at 9% annua...  \n",
       "\n",
       "[68314 rows x 3 columns]"
      ]
     },
     "execution_count": 17,
     "metadata": {},
     "output_type": "execute_result"
    }
   ],
   "source": [
    "Data"
   ]
  },
  {
   "cell_type": "code",
   "execution_count": 18,
   "metadata": {},
   "outputs": [
    {
     "data": {
      "text/plain": [
       "68314"
      ]
     },
     "execution_count": 18,
     "metadata": {},
     "output_type": "execute_result"
    }
   ],
   "source": [
    "len(Data)"
   ]
  },
  {
   "cell_type": "code",
   "execution_count": 19,
   "metadata": {},
   "outputs": [],
   "source": [
    "Data.drop(Data.index[Data['selftext'] == '[removed]'], inplace = True)"
   ]
  },
  {
   "cell_type": "code",
   "execution_count": 20,
   "metadata": {},
   "outputs": [
    {
     "data": {
      "text/plain": [
       "62068"
      ]
     },
     "execution_count": 20,
     "metadata": {},
     "output_type": "execute_result"
    }
   ],
   "source": [
    "len(Data)"
   ]
  },
  {
   "cell_type": "code",
   "execution_count": 10,
   "metadata": {},
   "outputs": [],
   "source": [
    "Data.drop(index=Data.index[0], \n",
    "        axis=0, \n",
    "        inplace=True)"
   ]
  },
  {
   "cell_type": "code",
   "execution_count": 11,
   "metadata": {},
   "outputs": [
    {
     "data": {
      "text/html": [
       "<div>\n",
       "<style scoped>\n",
       "    .dataframe tbody tr th:only-of-type {\n",
       "        vertical-align: middle;\n",
       "    }\n",
       "\n",
       "    .dataframe tbody tr th {\n",
       "        vertical-align: top;\n",
       "    }\n",
       "\n",
       "    .dataframe thead th {\n",
       "        text-align: right;\n",
       "    }\n",
       "</style>\n",
       "<table border=\"1\" class=\"dataframe\">\n",
       "  <thead>\n",
       "    <tr style=\"text-align: right;\">\n",
       "      <th></th>\n",
       "      <th>created_utc</th>\n",
       "      <th>title</th>\n",
       "      <th>selftext</th>\n",
       "    </tr>\n",
       "  </thead>\n",
       "  <tbody>\n",
       "    <tr>\n",
       "      <th>1</th>\n",
       "      <td>1.637881e+09</td>\n",
       "      <td>Stable income of 1.2 Ethereum per day, I like ...</td>\n",
       "      <td>NaN</td>\n",
       "    </tr>\n",
       "    <tr>\n",
       "      <th>2</th>\n",
       "      <td>1.637880e+09</td>\n",
       "      <td>Ethereum Facebook Group acquired - How is that...</td>\n",
       "      <td>I'm a member of the largest public Ethereum gr...</td>\n",
       "    </tr>\n",
       "    <tr>\n",
       "      <th>3</th>\n",
       "      <td>1.637880e+09</td>\n",
       "      <td>BlockFi Changes Fees to Cover Ethereum Gas Costs</td>\n",
       "      <td>NaN</td>\n",
       "    </tr>\n",
       "    <tr>\n",
       "      <th>4</th>\n",
       "      <td>1.637880e+09</td>\n",
       "      <td>Christie’s to Hold Ethereum NFT Auction on Ope...</td>\n",
       "      <td>NaN</td>\n",
       "    </tr>\n",
       "    <tr>\n",
       "      <th>5</th>\n",
       "      <td>1.637880e+09</td>\n",
       "      <td>Axie Infinity Land Plot Sells For Record $2.48...</td>\n",
       "      <td>NaN</td>\n",
       "    </tr>\n",
       "    <tr>\n",
       "      <th>...</th>\n",
       "      <td>...</td>\n",
       "      <td>...</td>\n",
       "      <td>...</td>\n",
       "    </tr>\n",
       "    <tr>\n",
       "      <th>68309</th>\n",
       "      <td>1.619820e+09</td>\n",
       "      <td>Found this Ethereum Bat Signal on a walk in so...</td>\n",
       "      <td>NaN</td>\n",
       "    </tr>\n",
       "    <tr>\n",
       "      <th>68310</th>\n",
       "      <td>1.619820e+09</td>\n",
       "      <td>Ethereum token creation: decimals value</td>\n",
       "      <td>[removed]</td>\n",
       "    </tr>\n",
       "    <tr>\n",
       "      <th>68311</th>\n",
       "      <td>1.619820e+09</td>\n",
       "      <td>Ethereum or Bitcoin?</td>\n",
       "      <td>Hello! I’m relatively new to the cryptocurrenc...</td>\n",
       "    </tr>\n",
       "    <tr>\n",
       "      <th>68312</th>\n",
       "      <td>1.619820e+09</td>\n",
       "      <td>Crypto for Beginners - What Everyone Should Know</td>\n",
       "      <td>Hey people of the /r/CC subreddit:\\n\\nSo I dec...</td>\n",
       "    </tr>\n",
       "    <tr>\n",
       "      <th>68313</th>\n",
       "      <td>1.619820e+09</td>\n",
       "      <td>Loan to buy ethereum?</td>\n",
       "      <td>I can take out a loan of up to 50k at 9% annua...</td>\n",
       "    </tr>\n",
       "  </tbody>\n",
       "</table>\n",
       "<p>68313 rows × 3 columns</p>\n",
       "</div>"
      ],
      "text/plain": [
       "        created_utc                                              title  \\\n",
       "1      1.637881e+09  Stable income of 1.2 Ethereum per day, I like ...   \n",
       "2      1.637880e+09  Ethereum Facebook Group acquired - How is that...   \n",
       "3      1.637880e+09   BlockFi Changes Fees to Cover Ethereum Gas Costs   \n",
       "4      1.637880e+09  Christie’s to Hold Ethereum NFT Auction on Ope...   \n",
       "5      1.637880e+09  Axie Infinity Land Plot Sells For Record $2.48...   \n",
       "...             ...                                                ...   \n",
       "68309  1.619820e+09  Found this Ethereum Bat Signal on a walk in so...   \n",
       "68310  1.619820e+09            Ethereum token creation: decimals value   \n",
       "68311  1.619820e+09                               Ethereum or Bitcoin?   \n",
       "68312  1.619820e+09   Crypto for Beginners - What Everyone Should Know   \n",
       "68313  1.619820e+09                              Loan to buy ethereum?   \n",
       "\n",
       "                                                selftext  \n",
       "1                                                    NaN  \n",
       "2      I'm a member of the largest public Ethereum gr...  \n",
       "3                                                    NaN  \n",
       "4                                                    NaN  \n",
       "5                                                    NaN  \n",
       "...                                                  ...  \n",
       "68309                                                NaN  \n",
       "68310                                          [removed]  \n",
       "68311  Hello! I’m relatively new to the cryptocurrenc...  \n",
       "68312  Hey people of the /r/CC subreddit:\\n\\nSo I dec...  \n",
       "68313  I can take out a loan of up to 50k at 9% annua...  \n",
       "\n",
       "[68313 rows x 3 columns]"
      ]
     },
     "execution_count": 11,
     "metadata": {},
     "output_type": "execute_result"
    }
   ],
   "source": [
    "Data"
   ]
  },
  {
   "cell_type": "code",
   "execution_count": null,
   "metadata": {},
   "outputs": [],
   "source": []
  }
 ],
 "metadata": {
  "kernelspec": {
   "display_name": "Python 3",
   "language": "python",
   "name": "python3"
  },
  "language_info": {
   "codemirror_mode": {
    "name": "ipython",
    "version": 3
   },
   "file_extension": ".py",
   "mimetype": "text/x-python",
   "name": "python",
   "nbconvert_exporter": "python",
   "pygments_lexer": "ipython3",
   "version": "3.8.5"
  }
 },
 "nbformat": 4,
 "nbformat_minor": 4
}
